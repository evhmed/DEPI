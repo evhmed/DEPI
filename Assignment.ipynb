{
  "cells": [
    {
      "metadata": {
        "id": "5a8e6450a548ba8c"
      },
      "cell_type": "markdown",
      "source": [
        "# Task:\n",
        "**DEADLINE: 8th of July 2025**\n",
        "\n",
        "**Use Python lists to create and modify a guest list for a dinner party.**\n",
        "\n",
        "- Create a list of at least five guests and print personalized invitations.\n",
        "- Replace one guest who can’t attend with a new invitee.\n",
        "- Expand the list by adding three more guests at different positions using `insert()` and `append()`.\n",
        "- Simulate a venue change by limiting the guest list to only two people:\n",
        "  - Use `pop()` to remove guests one by one, printing a message for each.\n",
        "  - Ensure the final two guests receive a confirmation message.\n",
        "- Completely clear the list using `del` and verify it’s empty.\n",
        "- Add an extra challenge: Sort the guest list alphabetically before sending invitations."
      ],
      "id": "5a8e6450a548ba8c"
    },
    {
      "metadata": {
        "id": "4c7c6f2819164038"
      },
      "cell_type": "code",
      "outputs": [],
      "execution_count": null,
      "source": [],
      "id": "4c7c6f2819164038"
    }
  ],
  "metadata": {
    "kernelspec": {
      "display_name": "Python 3",
      "language": "python",
      "name": "python3"
    },
    "language_info": {
      "codemirror_mode": {
        "name": "ipython",
        "version": 2
      },
      "file_extension": ".py",
      "mimetype": "text/x-python",
      "name": "python",
      "nbconvert_exporter": "python",
      "pygments_lexer": "ipython2",
      "version": "2.7.6"
    },
    "colab": {
      "provenance": []
    }
  },
  "nbformat": 4,
  "nbformat_minor": 5
}